{
 "cells": [
  {
   "cell_type": "markdown",
   "metadata": {
    "collapsed": true,
    "jupyter": {
     "outputs_hidden": true
    }
   },
   "source": [
    "## Opis problema\n",
    "\n",
    "Svake godine, približno 7.6 miliona kućnih ljubimaca završi u azilima širom Amerike. Dosta životinja vlasnici više ne žele, a ostale se spašavaju sa ulice. Mnoge životinje pronađu novi dom, ali nažalost ne i sve. Preko 2.7 miliona pasa i mačaka se uspavljuje svake godine u Americi.\n",
    "\n",
    "Naš zadatak je da koristeći skup podataka o životinjama od strane Austin Animal Center koji sadrži informacije poput rase, boje, pola i starosti životinja predvidimo sudbinu svake životinje.\r\n",
    "\n",
    "\n",
    "\n",
    "Za svaku životinju i svaku sudbinu treba da izračunamo verovatnoću da životinja ima tu sudbinu:\n",
    "\n",
    "```\n",
    "AnimalID,Adoption,Died,Euthanasia,Return_to_owner,Transfer\n",
    "A715022,1,0,0,0,0\n",
    "A677429,0.5,0.3,0.2,0,0\n",
    "...\n",
    "etc.\n",
    "```\n",
    "\n",
    "Moguće sudbine, odnosno ishodi, su:\n",
    "- Adoption (životinja je pronašla novi dom)\n",
    "- Died (životinja je nažalost preminula)\n",
    "- Euthanasia (životinja je nažalost uspavana)\n",
    "- Return_to_owner (životinja je vraćena svom vlasniku)\n",
    "- Transfer (životinja je premeštena u drugi azil)\n",
    "\n",
    "Rešenje će se ocenjivati takozvanom multi-class logarithmic loss funkcijom:\n",
    "\n",
    "$logloss = -\\frac{1}{N} \\sum_{i=1}^{N} \\sum_{j=1}^{M} y_{ij} \\log_e{(p_{ij})}$\n",
    "\n",
    "$N$ predstavlja broj životinja u skupu podataka koji se koristi za testiranje, $M$ broj mogućih sudbina, $log_e$ prirodni logiram, $y_{ij}$ ima vrednost $1$ ukoliko је životinju $i$ zadesila sudbina $j$, a u suprotnom ima vrednost $0$ i $p_{ij}$ predstavlja verovatnoću koju smo mi izračunali.\n",
    "\n",
    "Jasno je da bolje rešenje ima manju vrednost funkcije $logloss$, dakle funkciju $logloss$ je potrebno minimizovati.\n"
   ]
  },
  {
   "cell_type": "markdown",
   "metadata": {},
   "source": [
    "## Učitavanje potrebnih Python paketa"
   ]
  },
  {
   "cell_type": "code",
   "execution_count": 32,
   "metadata": {},
   "outputs": [],
   "source": [
    "# Pandas/Matplotlib/NumPy\n",
    "import pandas as pd\n",
    "import matplotlib.pyplot as plt\n",
    "%matplotlib inline\n",
    "import numpy as np\n",
    "import datetime\n",
    "\n",
    "# Data preprocessing\n",
    "from sklearn.preprocessing import StandardScaler, LabelEncoder\n",
    "from sklearn.model_selection import train_test_split, GridSearchCV\n",
    "from sklearn import metrics\n",
    "\n",
    "# TensorFlow\n",
    "from tensorflow.keras.models import Sequential\n",
    "from tensorflow.keras.layers import Dense, Dropout\n",
    "from tensorflow.keras.utils import to_categorical\n",
    "\n",
    "# SciKeras\n",
    "from scikeras.wrappers import KerasClassifier\n",
    "\n",
    "# Scikit-Learn classifiers\n",
    "from sklearn.ensemble import AdaBoostClassifier, RandomForestClassifier, ExtraTreesClassifier\n",
    "from sklearn.ensemble import GradientBoostingClassifier, HistGradientBoostingClassifier\n",
    "from sklearn.tree import DecisionTreeClassifier\n",
    "from sklearn.svm import SVC\n",
    "\n",
    "# Scikit-Learn cross-validation\n",
    "from sklearn.model_selection import cross_val_score\n",
    "from sklearn.model_selection import train_test_split"
   ]
  },
  {
   "cell_type": "markdown",
   "metadata": {},
   "source": [
    "## Učitavanje, analiza i preprocesiranje podataka"
   ]
  },
  {
   "cell_type": "code",
   "execution_count": 3,
   "metadata": {
    "ExecuteTime": {
     "end_time": "2024-01-20T12:58:29.778265Z",
     "start_time": "2024-01-20T12:58:29.644347Z"
    }
   },
   "outputs": [
    {
     "data": {
      "text/html": [
       "<div>\n",
       "<style scoped>\n",
       "    .dataframe tbody tr th:only-of-type {\n",
       "        vertical-align: middle;\n",
       "    }\n",
       "\n",
       "    .dataframe tbody tr th {\n",
       "        vertical-align: top;\n",
       "    }\n",
       "\n",
       "    .dataframe thead th {\n",
       "        text-align: right;\n",
       "    }\n",
       "</style>\n",
       "<table border=\"1\" class=\"dataframe\">\n",
       "  <thead>\n",
       "    <tr style=\"text-align: right;\">\n",
       "      <th></th>\n",
       "      <th>AnimalID</th>\n",
       "      <th>Name</th>\n",
       "      <th>DateTime</th>\n",
       "      <th>OutcomeType</th>\n",
       "      <th>OutcomeSubtype</th>\n",
       "      <th>AnimalType</th>\n",
       "      <th>SexuponOutcome</th>\n",
       "      <th>AgeuponOutcome</th>\n",
       "      <th>Breed</th>\n",
       "      <th>Color</th>\n",
       "    </tr>\n",
       "  </thead>\n",
       "  <tbody>\n",
       "    <tr>\n",
       "      <th>0</th>\n",
       "      <td>A671945</td>\n",
       "      <td>Hambone</td>\n",
       "      <td>2014-02-12 18:22:00</td>\n",
       "      <td>Return_to_owner</td>\n",
       "      <td>NaN</td>\n",
       "      <td>Dog</td>\n",
       "      <td>Neutered Male</td>\n",
       "      <td>1 year</td>\n",
       "      <td>Shetland Sheepdog Mix</td>\n",
       "      <td>Brown/White</td>\n",
       "    </tr>\n",
       "    <tr>\n",
       "      <th>1</th>\n",
       "      <td>A656520</td>\n",
       "      <td>Emily</td>\n",
       "      <td>2013-10-13 12:44:00</td>\n",
       "      <td>Euthanasia</td>\n",
       "      <td>Suffering</td>\n",
       "      <td>Cat</td>\n",
       "      <td>Spayed Female</td>\n",
       "      <td>1 year</td>\n",
       "      <td>Domestic Shorthair Mix</td>\n",
       "      <td>Cream Tabby</td>\n",
       "    </tr>\n",
       "    <tr>\n",
       "      <th>2</th>\n",
       "      <td>A686464</td>\n",
       "      <td>Pearce</td>\n",
       "      <td>2015-01-31 12:28:00</td>\n",
       "      <td>Adoption</td>\n",
       "      <td>Foster</td>\n",
       "      <td>Dog</td>\n",
       "      <td>Neutered Male</td>\n",
       "      <td>2 years</td>\n",
       "      <td>Pit Bull Mix</td>\n",
       "      <td>Blue/White</td>\n",
       "    </tr>\n",
       "    <tr>\n",
       "      <th>3</th>\n",
       "      <td>A683430</td>\n",
       "      <td>NaN</td>\n",
       "      <td>2014-07-11 19:09:00</td>\n",
       "      <td>Transfer</td>\n",
       "      <td>Partner</td>\n",
       "      <td>Cat</td>\n",
       "      <td>Intact Male</td>\n",
       "      <td>3 weeks</td>\n",
       "      <td>Domestic Shorthair Mix</td>\n",
       "      <td>Blue Cream</td>\n",
       "    </tr>\n",
       "    <tr>\n",
       "      <th>4</th>\n",
       "      <td>A667013</td>\n",
       "      <td>NaN</td>\n",
       "      <td>2013-11-15 12:52:00</td>\n",
       "      <td>Transfer</td>\n",
       "      <td>Partner</td>\n",
       "      <td>Dog</td>\n",
       "      <td>Neutered Male</td>\n",
       "      <td>2 years</td>\n",
       "      <td>Lhasa Apso/Miniature Poodle</td>\n",
       "      <td>Tan</td>\n",
       "    </tr>\n",
       "  </tbody>\n",
       "</table>\n",
       "</div>"
      ],
      "text/plain": [
       "  AnimalID     Name             DateTime      OutcomeType OutcomeSubtype  \\\n",
       "0  A671945  Hambone  2014-02-12 18:22:00  Return_to_owner            NaN   \n",
       "1  A656520    Emily  2013-10-13 12:44:00       Euthanasia      Suffering   \n",
       "2  A686464   Pearce  2015-01-31 12:28:00         Adoption         Foster   \n",
       "3  A683430      NaN  2014-07-11 19:09:00         Transfer        Partner   \n",
       "4  A667013      NaN  2013-11-15 12:52:00         Transfer        Partner   \n",
       "\n",
       "  AnimalType SexuponOutcome AgeuponOutcome                        Breed  \\\n",
       "0        Dog  Neutered Male         1 year        Shetland Sheepdog Mix   \n",
       "1        Cat  Spayed Female         1 year       Domestic Shorthair Mix   \n",
       "2        Dog  Neutered Male        2 years                 Pit Bull Mix   \n",
       "3        Cat    Intact Male        3 weeks       Domestic Shorthair Mix   \n",
       "4        Dog  Neutered Male        2 years  Lhasa Apso/Miniature Poodle   \n",
       "\n",
       "         Color  \n",
       "0  Brown/White  \n",
       "1  Cream Tabby  \n",
       "2   Blue/White  \n",
       "3   Blue Cream  \n",
       "4          Tan  "
      ]
     },
     "execution_count": 3,
     "metadata": {},
     "output_type": "execute_result"
    }
   ],
   "source": [
    "# Skup podataka za treniranje modela\n",
    "train_df = pd.read_csv('train.csv')\n",
    "# Skup podataka za testiranje modela\n",
    "test_df = pd.read_csv('test.csv')\n",
    "\n",
    "train_df.head()"
   ]
  },
  {
   "cell_type": "code",
   "execution_count": 4,
   "metadata": {
    "ExecuteTime": {
     "end_time": "2024-01-20T12:58:33.420612Z",
     "start_time": "2024-01-20T12:58:33.373609Z"
    }
   },
   "outputs": [
    {
     "data": {
      "text/html": [
       "<div>\n",
       "<style scoped>\n",
       "    .dataframe tbody tr th:only-of-type {\n",
       "        vertical-align: middle;\n",
       "    }\n",
       "\n",
       "    .dataframe tbody tr th {\n",
       "        vertical-align: top;\n",
       "    }\n",
       "\n",
       "    .dataframe thead th {\n",
       "        text-align: right;\n",
       "    }\n",
       "</style>\n",
       "<table border=\"1\" class=\"dataframe\">\n",
       "  <thead>\n",
       "    <tr style=\"text-align: right;\">\n",
       "      <th></th>\n",
       "      <th>AnimalID</th>\n",
       "      <th>Name</th>\n",
       "      <th>DateTime</th>\n",
       "      <th>OutcomeType</th>\n",
       "      <th>OutcomeSubtype</th>\n",
       "      <th>AnimalType</th>\n",
       "      <th>SexuponOutcome</th>\n",
       "      <th>AgeuponOutcome</th>\n",
       "      <th>Breed</th>\n",
       "      <th>Color</th>\n",
       "    </tr>\n",
       "  </thead>\n",
       "  <tbody>\n",
       "    <tr>\n",
       "      <th>count</th>\n",
       "      <td>26729</td>\n",
       "      <td>19038</td>\n",
       "      <td>26729</td>\n",
       "      <td>26729</td>\n",
       "      <td>13117</td>\n",
       "      <td>26729</td>\n",
       "      <td>26728</td>\n",
       "      <td>26711</td>\n",
       "      <td>26729</td>\n",
       "      <td>26729</td>\n",
       "    </tr>\n",
       "    <tr>\n",
       "      <th>unique</th>\n",
       "      <td>26729</td>\n",
       "      <td>6374</td>\n",
       "      <td>22918</td>\n",
       "      <td>5</td>\n",
       "      <td>16</td>\n",
       "      <td>2</td>\n",
       "      <td>5</td>\n",
       "      <td>44</td>\n",
       "      <td>1380</td>\n",
       "      <td>366</td>\n",
       "    </tr>\n",
       "    <tr>\n",
       "      <th>top</th>\n",
       "      <td>A671945</td>\n",
       "      <td>Max</td>\n",
       "      <td>2015-08-11 00:00:00</td>\n",
       "      <td>Adoption</td>\n",
       "      <td>Partner</td>\n",
       "      <td>Dog</td>\n",
       "      <td>Neutered Male</td>\n",
       "      <td>1 year</td>\n",
       "      <td>Domestic Shorthair Mix</td>\n",
       "      <td>Black/White</td>\n",
       "    </tr>\n",
       "    <tr>\n",
       "      <th>freq</th>\n",
       "      <td>1</td>\n",
       "      <td>136</td>\n",
       "      <td>19</td>\n",
       "      <td>10769</td>\n",
       "      <td>7816</td>\n",
       "      <td>15595</td>\n",
       "      <td>9779</td>\n",
       "      <td>3969</td>\n",
       "      <td>8810</td>\n",
       "      <td>2824</td>\n",
       "    </tr>\n",
       "  </tbody>\n",
       "</table>\n",
       "</div>"
      ],
      "text/plain": [
       "       AnimalID   Name             DateTime OutcomeType OutcomeSubtype  \\\n",
       "count     26729  19038                26729       26729          13117   \n",
       "unique    26729   6374                22918           5             16   \n",
       "top     A671945    Max  2015-08-11 00:00:00    Adoption        Partner   \n",
       "freq          1    136                   19       10769           7816   \n",
       "\n",
       "       AnimalType SexuponOutcome AgeuponOutcome                   Breed  \\\n",
       "count       26729          26728          26711                   26729   \n",
       "unique          2              5             44                    1380   \n",
       "top           Dog  Neutered Male         1 year  Domestic Shorthair Mix   \n",
       "freq        15595           9779           3969                    8810   \n",
       "\n",
       "              Color  \n",
       "count         26729  \n",
       "unique          366  \n",
       "top     Black/White  \n",
       "freq           2824  "
      ]
     },
     "execution_count": 4,
     "metadata": {},
     "output_type": "execute_result"
    }
   ],
   "source": [
    "train_df.describe()"
   ]
  },
  {
   "cell_type": "code",
   "execution_count": 5,
   "metadata": {},
   "outputs": [
    {
     "name": "stdout",
     "output_type": "stream",
     "text": [
      "<class 'pandas.core.frame.DataFrame'>\n",
      "RangeIndex: 26729 entries, 0 to 26728\n",
      "Data columns (total 10 columns):\n",
      " #   Column          Non-Null Count  Dtype \n",
      "---  ------          --------------  ----- \n",
      " 0   AnimalID        26729 non-null  object\n",
      " 1   Name            19038 non-null  object\n",
      " 2   DateTime        26729 non-null  object\n",
      " 3   OutcomeType     26729 non-null  object\n",
      " 4   OutcomeSubtype  13117 non-null  object\n",
      " 5   AnimalType      26729 non-null  object\n",
      " 6   SexuponOutcome  26728 non-null  object\n",
      " 7   AgeuponOutcome  26711 non-null  object\n",
      " 8   Breed           26729 non-null  object\n",
      " 9   Color           26729 non-null  object\n",
      "dtypes: object(10)\n",
      "memory usage: 2.0+ MB\n"
     ]
    }
   ],
   "source": [
    "train_df.info()"
   ]
  },
  {
   "cell_type": "markdown",
   "metadata": {},
   "source": [
    "### Sudbina ljubimaca"
   ]
  },
  {
   "cell_type": "markdown",
   "metadata": {},
   "source": [
    "Najčešći ishodi u skupu podataka za treniranje algoritama su usvajanje, transfer, kao i vraćanje izgubljenih kućnih ljubimaca vlasnicima."
   ]
  },
  {
   "cell_type": "code",
   "execution_count": 6,
   "metadata": {},
   "outputs": [
    {
     "data": {
      "text/plain": [
       "Text(0.5, 0, 'Ishodi kućnih ljubimaca u trening skupu podataka')"
      ]
     },
     "execution_count": 6,
     "metadata": {},
     "output_type": "execute_result"
    },
    {
     "data": {
      "image/png": "[encoded data removed]",
      "text/plain": [
       "<Figure size 640x480 with 1 Axes>"
      ]
     },
     "metadata": {},
     "output_type": "display_data"
    }
   ],
   "source": [
    "train_df['OutcomeType'].hist(grid=False)\n",
    "plt.xlabel('Ishodi kućnih ljubimaca u trening skupu podataka')"
   ]
  },
  {
   "cell_type": "markdown",
   "metadata": {},
   "source": [
    "### Starost ljubimaca"
   ]
  },
  {
   "cell_type": "markdown",
   "metadata": {},
   "source": [
    "Možemo videti da je kolona `AgeuponOutcome` znakovnog tipa, pa ćemo je konvertovati u numerički tip kako bi smo mogli da je korisitmo u našim modelima."
   ]
  },
  {
   "cell_type": "code",
   "execution_count": 7,
   "metadata": {},
   "outputs": [
    {
     "data": {
      "text/plain": [
       "AgeuponOutcome\n",
       "1 year      3969\n",
       "2 years     3742\n",
       "2 months    3397\n",
       "3 years     1823\n",
       "1 month     1281\n",
       "3 months    1277\n",
       "4 years     1071\n",
       "5 years      992\n",
       "4 months     888\n",
       "6 years      670\n",
       "Name: count, dtype: int64"
      ]
     },
     "execution_count": 7,
     "metadata": {},
     "output_type": "execute_result"
    }
   ],
   "source": [
    "train_df.AgeuponOutcome.value_counts()[:10]"
   ]
  },
  {
   "cell_type": "code",
   "execution_count": 8,
   "metadata": {},
   "outputs": [],
   "source": [
    "# Funkcija koja pretvara znakovnu vrednost starosti u numeričku vrednost (sstarost u danima)\n",
    "def convert_age_upon_outcome_to_numerical_value(age_upon_outcome):\n",
    "    parts = age_upon_outcome.split()\n",
    "    value = int(parts[0])\n",
    "    if 'year' in age_upon_outcome:\n",
    "        return value * 365\n",
    "    elif 'weeks' in age_upon_outcome:\n",
    "        return value * 7\n",
    "    elif 'month' in age_upon_outcome:\n",
    "        return value * 30\n",
    "    elif 'days' in age_upon_outcome:\n",
    "        return value\n",
    "\n",
    "    return value"
   ]
  },
  {
   "cell_type": "markdown",
   "metadata": {},
   "source": [
    "Redove gde ne znamo starost životinje ćemo popuniti nulama."
   ]
  },
  {
   "cell_type": "code",
   "execution_count": 9,
   "metadata": {},
   "outputs": [],
   "source": [
    "train_df['AgeuponOutcome'] = train_df['AgeuponOutcome'].fillna('0')"
   ]
  },
  {
   "cell_type": "code",
   "execution_count": 10,
   "metadata": {},
   "outputs": [
    {
     "data": {
      "text/plain": [
       "0"
      ]
     },
     "execution_count": 10,
     "metadata": {},
     "output_type": "execute_result"
    }
   ],
   "source": [
    "AgeInDays = train_df.AgeuponOutcome.transform(convert_age_upon_outcome_to_numerical_value)\n",
    "\n",
    "train_df['AgeInDays'] = AgeInDays\n",
    "train_df.drop(columns=['AgeuponOutcome'], inplace=True)\n",
    "train_df['AgeInDays'].isnull().sum()"
   ]
  },
  {
   "cell_type": "code",
   "execution_count": 15,
   "metadata": {},
   "outputs": [
    {
     "data": {
      "image/png": "[encoded data removed]",
      "text/plain": [
       "<Figure size 640x480 with 1 Axes>"
      ]
     },
     "metadata": {},
     "output_type": "display_data"
    }
   ],
   "source": [
    "train_df['AgeInDays'].hist(bins=100, grid=False)\n",
    "plt.xlabel('Starost kućnih ljubimaca izražena u danima');"
   ]
  },
  {
   "cell_type": "markdown",
   "metadata": {},
   "source": [
    "Zaključujemo da je velika većina ljubimaca veoma mlada, mlađa od jedne godine."
   ]
  },
  {
   "cell_type": "markdown",
   "metadata": {},
   "source": [
    "### Boja životinja"
   ]
  },
  {
   "cell_type": "code",
   "execution_count": 16,
   "metadata": {},
   "outputs": [
    {
     "data": {
      "text/plain": [
       "Color\n",
       "Black/White          2824\n",
       "Black                2292\n",
       "Brown Tabby          1635\n",
       "Brown Tabby/White     940\n",
       "White                 931\n",
       "Brown/White           884\n",
       "Orange Tabby          841\n",
       "Tan/White             773\n",
       "Tricolor              752\n",
       "Blue/White            702\n",
       "Name: count, dtype: int64"
      ]
     },
     "execution_count": 16,
     "metadata": {},
     "output_type": "execute_result"
    }
   ],
   "source": [
    "train_df.Color.value_counts()[:10]"
   ]
  },
  {
   "cell_type": "markdown",
   "metadata": {},
   "source": [
    "### Rasa životinja"
   ]
  },
  {
   "cell_type": "code",
   "execution_count": 17,
   "metadata": {},
   "outputs": [
    {
     "data": {
      "text/plain": [
       "Breed\n",
       "Domestic Shorthair Mix       8810\n",
       "Pit Bull Mix                 1906\n",
       "Chihuahua Shorthair Mix      1766\n",
       "Labrador Retriever Mix       1363\n",
       "Domestic Medium Hair Mix      839\n",
       "German Shepherd Mix           575\n",
       "Domestic Longhair Mix         520\n",
       "Siamese Mix                   389\n",
       "Australian Cattle Dog Mix     367\n",
       "Dachshund Mix                 318\n",
       "Name: count, dtype: int64"
      ]
     },
     "execution_count": 17,
     "metadata": {},
     "output_type": "execute_result"
    }
   ],
   "source": [
    "train_df.Breed.value_counts()[:10]"
   ]
  },
  {
   "cell_type": "markdown",
   "metadata": {},
   "source": [
    "Možemo zaključiti da su najčešći rase životinja u našem skupu podataka takozvani \"mešanci\"."
   ]
  },
  {
   "attachments": {},
   "cell_type": "markdown",
   "metadata": {},
   "source": [
    "### Pol životinja"
   ]
  },
  {
   "cell_type": "code",
   "execution_count": 18,
   "metadata": {},
   "outputs": [
    {
     "data": {
      "image/png": "[encoded data removed]",
      "text/plain": [
       "<Figure size 640x480 with 1 Axes>"
      ]
     },
     "metadata": {},
     "output_type": "display_data"
    }
   ],
   "source": [
    "train_df.SexuponOutcome.hist(grid=False)\n",
    "plt.xlabel('Pol životinja');"
   ]
  },
  {
   "cell_type": "markdown",
   "metadata": {},
   "source": [
    "### Enkodovanje ulaznih podataka"
   ]
  },
  {
   "cell_type": "code",
   "execution_count": 19,
   "metadata": {
    "scrolled": true
   },
   "outputs": [
    {
     "data": {
      "text/html": [
       "<div>\n",
       "<style scoped>\n",
       "    .dataframe tbody tr th:only-of-type {\n",
       "        vertical-align: middle;\n",
       "    }\n",
       "\n",
       "    .dataframe tbody tr th {\n",
       "        vertical-align: top;\n",
       "    }\n",
       "\n",
       "    .dataframe thead th {\n",
       "        text-align: right;\n",
       "    }\n",
       "</style>\n",
       "<table border=\"1\" class=\"dataframe\">\n",
       "  <thead>\n",
       "    <tr style=\"text-align: right;\">\n",
       "      <th></th>\n",
       "      <th>AnimalID</th>\n",
       "      <th>Name</th>\n",
       "      <th>DateTime</th>\n",
       "      <th>OutcomeType</th>\n",
       "      <th>OutcomeSubtype</th>\n",
       "      <th>AnimalType</th>\n",
       "      <th>SexuponOutcome</th>\n",
       "      <th>Breed</th>\n",
       "      <th>Color</th>\n",
       "      <th>AgeInDays</th>\n",
       "    </tr>\n",
       "  </thead>\n",
       "  <tbody>\n",
       "    <tr>\n",
       "      <th>0</th>\n",
       "      <td>A671945</td>\n",
       "      <td>Hambone</td>\n",
       "      <td>2014-02-12 18:22:00</td>\n",
       "      <td>Return_to_owner</td>\n",
       "      <td>NaN</td>\n",
       "      <td>Dog</td>\n",
       "      <td>Neutered Male</td>\n",
       "      <td>Shetland Sheepdog Mix</td>\n",
       "      <td>Brown/White</td>\n",
       "      <td>365</td>\n",
       "    </tr>\n",
       "    <tr>\n",
       "      <th>1</th>\n",
       "      <td>A656520</td>\n",
       "      <td>Emily</td>\n",
       "      <td>2013-10-13 12:44:00</td>\n",
       "      <td>Euthanasia</td>\n",
       "      <td>Suffering</td>\n",
       "      <td>Cat</td>\n",
       "      <td>Spayed Female</td>\n",
       "      <td>Domestic Shorthair Mix</td>\n",
       "      <td>Cream Tabby</td>\n",
       "      <td>365</td>\n",
       "    </tr>\n",
       "    <tr>\n",
       "      <th>2</th>\n",
       "      <td>A686464</td>\n",
       "      <td>Pearce</td>\n",
       "      <td>2015-01-31 12:28:00</td>\n",
       "      <td>Adoption</td>\n",
       "      <td>Foster</td>\n",
       "      <td>Dog</td>\n",
       "      <td>Neutered Male</td>\n",
       "      <td>Pit Bull Mix</td>\n",
       "      <td>Blue/White</td>\n",
       "      <td>730</td>\n",
       "    </tr>\n",
       "    <tr>\n",
       "      <th>3</th>\n",
       "      <td>A683430</td>\n",
       "      <td>NaN</td>\n",
       "      <td>2014-07-11 19:09:00</td>\n",
       "      <td>Transfer</td>\n",
       "      <td>Partner</td>\n",
       "      <td>Cat</td>\n",
       "      <td>Intact Male</td>\n",
       "      <td>Domestic Shorthair Mix</td>\n",
       "      <td>Blue Cream</td>\n",
       "      <td>21</td>\n",
       "    </tr>\n",
       "    <tr>\n",
       "      <th>4</th>\n",
       "      <td>A667013</td>\n",
       "      <td>NaN</td>\n",
       "      <td>2013-11-15 12:52:00</td>\n",
       "      <td>Transfer</td>\n",
       "      <td>Partner</td>\n",
       "      <td>Dog</td>\n",
       "      <td>Neutered Male</td>\n",
       "      <td>Lhasa Apso/Miniature Poodle</td>\n",
       "      <td>Tan</td>\n",
       "      <td>730</td>\n",
       "    </tr>\n",
       "  </tbody>\n",
       "</table>\n",
       "</div>"
      ],
      "text/plain": [
       "  AnimalID     Name             DateTime      OutcomeType OutcomeSubtype  \\\n",
       "0  A671945  Hambone  2014-02-12 18:22:00  Return_to_owner            NaN   \n",
       "1  A656520    Emily  2013-10-13 12:44:00       Euthanasia      Suffering   \n",
       "2  A686464   Pearce  2015-01-31 12:28:00         Adoption         Foster   \n",
       "3  A683430      NaN  2014-07-11 19:09:00         Transfer        Partner   \n",
       "4  A667013      NaN  2013-11-15 12:52:00         Transfer        Partner   \n",
       "\n",
       "  AnimalType SexuponOutcome                        Breed        Color  \\\n",
       "0        Dog  Neutered Male        Shetland Sheepdog Mix  Brown/White   \n",
       "1        Cat  Spayed Female       Domestic Shorthair Mix  Cream Tabby   \n",
       "2        Dog  Neutered Male                 Pit Bull Mix   Blue/White   \n",
       "3        Cat    Intact Male       Domestic Shorthair Mix   Blue Cream   \n",
       "4        Dog  Neutered Male  Lhasa Apso/Miniature Poodle          Tan   \n",
       "\n",
       "   AgeInDays  \n",
       "0        365  \n",
       "1        365  \n",
       "2        730  \n",
       "3         21  \n",
       "4        730  "
      ]
     },
     "execution_count": 19,
     "metadata": {},
     "output_type": "execute_result"
    }
   ],
   "source": [
    "train_df.head()"
   ]
  },
  {
   "cell_type": "markdown",
   "metadata": {},
   "source": [
    "Možemo primetiti da dosta naših atributa (features) jesu znakovnog tipa, na primer:\n",
    "- Breed (rasa)\n",
    "- Color (boja)\n",
    "- AnimalType (pas ili mačka)\n",
    "\n",
    "Rad sa znakovnim podacima nije pogodan za algoritme mašinskog učenja i njima moramo pronaći neku numeričku vrednost. Najjednostavniji način za to je da se iskoristi klasa `LabelEncoder` iz paketa `sklearn.preprocessing` koja ulazni skup od $N$ različitih znakovnih vrednosti transformiše u skup čiji elementi pripadaju skupu $\\{0, \\dots, N-1\\}$.\n",
    "\n",
    "Naravno, naše enkodere moramo kreirati koristeći uniju skupova podataka za treniranje i testiranje kako bi smo obuhvatili sve moguće vrednosti."
   ]
  },
  {
   "cell_type": "code",
   "execution_count": 20,
   "metadata": {
    "scrolled": true
   },
   "outputs": [],
   "source": [
    "# Kreiranje enkodera\n",
    "encoder_training_data = pd.concat([train_df, test_df])\n",
    "\n",
    "# Boja\n",
    "color_encoder = LabelEncoder()\n",
    "color_encoder.fit(encoder_training_data.Color)\n",
    "\n",
    "# Rasa\n",
    "breed_encoder = LabelEncoder()\n",
    "breed_encoder.fit(encoder_training_data.Breed)\n",
    "\n",
    "# Tip životinje\n",
    "animal_type_encoder = LabelEncoder()\n",
    "animal_type_encoder.fit(encoder_training_data.AnimalType)\n",
    "\n",
    "# Pol\n",
    "sex_upon_outcome_encoder = LabelEncoder()\n",
    "sex_upon_outcome_encoder.fit(encoder_training_data.SexuponOutcome)\n",
    "\n",
    "# Ishod\n",
    "outcome_type_encoder = LabelEncoder()\n",
    "outcome_type_encoder.fit(encoder_training_data.OutcomeType)\n",
    "\n",
    "# Pod-ishod\n",
    "outcome_subtype_encoder = LabelEncoder()\n",
    "outcome_subtype_encoder.fit(encoder_training_data.OutcomeSubtype)\n",
    "\n",
    "# Ime\n",
    "name_encoder = LabelEncoder()\n",
    "name_encoder.fit(encoder_training_data.Name);"
   ]
  },
  {
   "cell_type": "markdown",
   "metadata": {},
   "source": [
    "Naše ulazne karakteristike ćemo dopuniti sa nekoliko novih kao što su:\n",
    "- is_mix (da li je životinja \"mešanac\")\n",
    "- year (godina)\n",
    "- month (mesec)\n",
    "- day (dan)\n",
    "\n",
    "Karakteristiku `DateTime` ćemo podeliti u 3 dela (godina, mesec i dan) kako bi smo pokušali da uočimo korelaciju između ishoda i dana u godini (na primer, ljudi možda češće usvajaju životinje u prazničnoj atmosferi)."
   ]
  },
  {
   "cell_type": "code",
   "execution_count": 21,
   "metadata": {
    "scrolled": true
   },
   "outputs": [
    {
     "data": {
      "text/html": [
       "<div>\n",
       "<style scoped>\n",
       "    .dataframe tbody tr th:only-of-type {\n",
       "        vertical-align: middle;\n",
       "    }\n",
       "\n",
       "    .dataframe tbody tr th {\n",
       "        vertical-align: top;\n",
       "    }\n",
       "\n",
       "    .dataframe thead th {\n",
       "        text-align: right;\n",
       "    }\n",
       "</style>\n",
       "<table border=\"1\" class=\"dataframe\">\n",
       "  <thead>\n",
       "    <tr style=\"text-align: right;\">\n",
       "      <th></th>\n",
       "      <th>AnimalID</th>\n",
       "      <th>Name</th>\n",
       "      <th>DateTime</th>\n",
       "      <th>OutcomeType</th>\n",
       "      <th>OutcomeSubtype</th>\n",
       "      <th>AnimalType</th>\n",
       "      <th>SexuponOutcome</th>\n",
       "      <th>Breed</th>\n",
       "      <th>Color</th>\n",
       "      <th>AgeInDays</th>\n",
       "      <th>is_mix</th>\n",
       "      <th>year</th>\n",
       "      <th>month</th>\n",
       "      <th>day</th>\n",
       "    </tr>\n",
       "  </thead>\n",
       "  <tbody>\n",
       "    <tr>\n",
       "      <th>0</th>\n",
       "      <td>A671945</td>\n",
       "      <td>2910</td>\n",
       "      <td>2014-02-12 18:22:00</td>\n",
       "      <td>3</td>\n",
       "      <td>16</td>\n",
       "      <td>1</td>\n",
       "      <td>2</td>\n",
       "      <td>1482</td>\n",
       "      <td>146</td>\n",
       "      <td>365</td>\n",
       "      <td>1</td>\n",
       "      <td>2014</td>\n",
       "      <td>2</td>\n",
       "      <td>12</td>\n",
       "    </tr>\n",
       "    <tr>\n",
       "      <th>1</th>\n",
       "      <td>A656520</td>\n",
       "      <td>2265</td>\n",
       "      <td>2013-10-13 12:44:00</td>\n",
       "      <td>2</td>\n",
       "      <td>15</td>\n",
       "      <td>0</td>\n",
       "      <td>3</td>\n",
       "      <td>775</td>\n",
       "      <td>184</td>\n",
       "      <td>365</td>\n",
       "      <td>1</td>\n",
       "      <td>2013</td>\n",
       "      <td>10</td>\n",
       "      <td>13</td>\n",
       "    </tr>\n",
       "    <tr>\n",
       "      <th>2</th>\n",
       "      <td>A686464</td>\n",
       "      <td>5500</td>\n",
       "      <td>2015-01-31 12:28:00</td>\n",
       "      <td>0</td>\n",
       "      <td>6</td>\n",
       "      <td>1</td>\n",
       "      <td>2</td>\n",
       "      <td>1293</td>\n",
       "      <td>97</td>\n",
       "      <td>730</td>\n",
       "      <td>1</td>\n",
       "      <td>2015</td>\n",
       "      <td>1</td>\n",
       "      <td>31</td>\n",
       "    </tr>\n",
       "    <tr>\n",
       "      <th>3</th>\n",
       "      <td>A683430</td>\n",
       "      <td>7968</td>\n",
       "      <td>2014-07-11 19:09:00</td>\n",
       "      <td>4</td>\n",
       "      <td>12</td>\n",
       "      <td>0</td>\n",
       "      <td>1</td>\n",
       "      <td>775</td>\n",
       "      <td>47</td>\n",
       "      <td>21</td>\n",
       "      <td>1</td>\n",
       "      <td>2014</td>\n",
       "      <td>7</td>\n",
       "      <td>11</td>\n",
       "    </tr>\n",
       "    <tr>\n",
       "      <th>4</th>\n",
       "      <td>A667013</td>\n",
       "      <td>7968</td>\n",
       "      <td>2013-11-15 12:52:00</td>\n",
       "      <td>4</td>\n",
       "      <td>12</td>\n",
       "      <td>1</td>\n",
       "      <td>2</td>\n",
       "      <td>1101</td>\n",
       "      <td>311</td>\n",
       "      <td>730</td>\n",
       "      <td>0</td>\n",
       "      <td>2013</td>\n",
       "      <td>11</td>\n",
       "      <td>15</td>\n",
       "    </tr>\n",
       "  </tbody>\n",
       "</table>\n",
       "</div>"
      ],
      "text/plain": [
       "  AnimalID  Name             DateTime  OutcomeType  OutcomeSubtype  \\\n",
       "0  A671945  2910  2014-02-12 18:22:00            3              16   \n",
       "1  A656520  2265  2013-10-13 12:44:00            2              15   \n",
       "2  A686464  5500  2015-01-31 12:28:00            0               6   \n",
       "3  A683430  7968  2014-07-11 19:09:00            4              12   \n",
       "4  A667013  7968  2013-11-15 12:52:00            4              12   \n",
       "\n",
       "   AnimalType  SexuponOutcome  Breed  Color  AgeInDays  is_mix  year  month  \\\n",
       "0           1               2   1482    146        365       1  2014      2   \n",
       "1           0               3    775    184        365       1  2013     10   \n",
       "2           1               2   1293     97        730       1  2015      1   \n",
       "3           0               1    775     47         21       1  2014      7   \n",
       "4           1               2   1101    311        730       0  2013     11   \n",
       "\n",
       "   day  \n",
       "0   12  \n",
       "1   13  \n",
       "2   31  \n",
       "3   11  \n",
       "4   15  "
      ]
     },
     "execution_count": 21,
     "metadata": {},
     "output_type": "execute_result"
    }
   ],
   "source": [
    "# Enkodovanje skupa podataka za treniranje modela\n",
    "train_df.Color = color_encoder.transform(train_df.Color)\n",
    "train_df['is_mix'] = train_df.Breed.apply(lambda x: 1 if 'Mix' in x else 0)\n",
    "train_df.Breed = breed_encoder.transform(train_df.Breed)\n",
    "train_df.AnimalType = animal_type_encoder.transform(train_df.AnimalType)\n",
    "train_df.SexuponOutcome = sex_upon_outcome_encoder.transform(train_df.SexuponOutcome)\n",
    "train_df.OutcomeType = outcome_type_encoder.transform(train_df.OutcomeType)\n",
    "train_df.OutcomeSubtype = outcome_subtype_encoder.transform(train_df.OutcomeSubtype)\n",
    "train_df.Name = name_encoder.transform(train_df.Name)\n",
    "train_df['year'] = train_df.DateTime.apply(lambda x: datetime.datetime.strptime(x, \"%Y-%m-%d %H:%M:%S\").year)\n",
    "train_df['month'] = train_df.DateTime.apply(lambda x: datetime.datetime.strptime(x, \"%Y-%m-%d %H:%M:%S\").month)\n",
    "train_df['day'] = train_df.DateTime.apply(lambda x: datetime.datetime.strptime(x, \"%Y-%m-%d %H:%M:%S\").day)\n",
    "\n",
    "train_df.head()"
   ]
  },
  {
   "cell_type": "code",
   "execution_count": 22,
   "metadata": {
    "scrolled": true
   },
   "outputs": [],
   "source": [
    "X = train_df.drop(['DateTime', 'OutcomeType', 'OutcomeSubtype', 'AnimalID'], axis=1)\n",
    "y = train_df.OutcomeType"
   ]
  },
  {
   "cell_type": "markdown",
   "metadata": {},
   "source": [
    "### Poređenje modela mašinskog učenja\n",
    "\n",
    "Sada ćemo porediti nekoliko modela mašinskog učenja koristeći unakrsnu validaciju. Modeli koji su nam interesantni jesu:\n",
    "- RandomForestClassifier\n",
    "- DecisionTreeClassifier\n",
    "- ExtraTreesClassifier\n",
    "- GradientBoostingClassifier\n",
    "- Deep learning neural network model (Keras Sequential Model)\n",
    "\n",
    "Koristićemo pomoćne funkcije paketa `sklearn.model_selection`:\n",
    "- cross_val_score (koja radi unakrsnu validaciju)\n",
    "- means (koja vraća ocenu modela)\n",
    "\n",
    "Funkcija means u zavisnosti od modela koji ocenjuje koristi odgovarajuću metodu za računanju ocene:\n",
    "- MSE (mean squared error)\n",
    "- R2 (r squared)"
   ]
  },
  {
   "cell_type": "markdown",
   "metadata": {},
   "source": [
    "### RandomForestClassifier"
   ]
  },
  {
   "cell_type": "code",
   "execution_count": 23,
   "metadata": {},
   "outputs": [
    {
     "data": {
      "text/plain": [
       "0.6219463246258797"
      ]
     },
     "execution_count": 23,
     "metadata": {},
     "output_type": "execute_result"
    }
   ],
   "source": [
    "clf = RandomForestClassifier(n_estimators=10, max_depth=None, min_samples_split=2, random_state=0)\n",
    "scores = cross_val_score(clf, X, y, cv=5)\n",
    "scores.mean()"
   ]
  },
  {
   "cell_type": "markdown",
   "metadata": {},
   "source": [
    "### DecisionTreeClassifier"
   ]
  },
  {
   "cell_type": "code",
   "execution_count": 24,
   "metadata": {},
   "outputs": [
    {
     "data": {
      "text/plain": [
       "0.551984635181808"
      ]
     },
     "execution_count": 24,
     "metadata": {},
     "output_type": "execute_result"
    }
   ],
   "source": [
    "clf = DecisionTreeClassifier(max_depth=None, min_samples_split=2, random_state=0)\n",
    "scores = cross_val_score(clf, X, y, cv=5)\n",
    "scores.mean()"
   ]
  },
  {
   "cell_type": "markdown",
   "metadata": {},
   "source": [
    "### ExtraTreesClassifier"
   ]
  },
  {
   "cell_type": "code",
   "execution_count": 25,
   "metadata": {},
   "outputs": [
    {
     "data": {
      "text/plain": [
       "0.6140521313330793"
      ]
     },
     "execution_count": 25,
     "metadata": {},
     "output_type": "execute_result"
    }
   ],
   "source": [
    "clf = ExtraTreesClassifier(n_estimators=10, max_depth=None, min_samples_split=2, random_state=0)\n",
    "scores = cross_val_score(clf, X, y, cv=5)\n",
    "scores.mean()"
   ]
  },
  {
   "cell_type": "markdown",
   "metadata": {},
   "source": [
    "### GradientBoostingClassifier"
   ]
  },
  {
   "cell_type": "code",
   "execution_count": 26,
   "metadata": {},
   "outputs": [
    {
     "data": {
      "text/plain": [
       "0.628942384381528"
      ]
     },
     "execution_count": 26,
     "metadata": {},
     "output_type": "execute_result"
    }
   ],
   "source": [
    "clf = GradientBoostingClassifier(n_estimators=10)\n",
    "scores = cross_val_score(clf, X, y, cv=5)\n",
    "scores.mean()"
   ]
  },
  {
   "cell_type": "markdown",
   "metadata": {},
   "source": [
    "### Deep learning neural network"
   ]
  },
  {
   "cell_type": "markdown",
   "metadata": {},
   "source": [
    "U ovom modelu kreiramo neuralnu mrežu sa jednim skrivenim slojem koji sadrži 16 neurona."
   ]
  },
  {
   "cell_type": "code",
   "execution_count": 27,
   "metadata": {},
   "outputs": [],
   "source": [
    "# Kreiranje skupova podataka za treniranje i testiranje od ulaznog skupa podataka\n",
    "X_train, X_test, y_train, y_test = train_test_split(X, y, random_state=2256, stratify=y) #2256 - Acko :)"
   ]
  },
  {
   "cell_type": "code",
   "execution_count": 28,
   "metadata": {},
   "outputs": [],
   "source": [
    "# Normalizacija ulaznog skupa\n",
    "sc = StandardScaler()\n",
    "X_train_sc = sc.fit_transform(X_train)\n",
    "X_test_sc = sc.transform(X_test)"
   ]
  },
  {
   "cell_type": "code",
   "execution_count": 29,
   "metadata": {},
   "outputs": [],
   "source": [
    "# Primena OneHotEncoder kako bi smo znakovne atribute pretvorili u numeričke\n",
    "y_train_nn = to_categorical(y_train)\n",
    "y_test_nn = to_categorical(y_test)"
   ]
  },
  {
   "cell_type": "code",
   "execution_count": 30,
   "metadata": {},
   "outputs": [],
   "source": [
    "# Kreiranje sekvencijalnog modela\n",
    "def model_func():\n",
    "    model=Sequential()  \n",
    "    \n",
    "    # Ulazni skup i prvi skriveni sloj \n",
    "    model.add(Dense(units=16, activation='relu', input_shape=(X_train_sc.shape[1],)))\n",
    "    \n",
    "    # Izlazni sloj\n",
    "    model.add(Dense(5, activation='softmax'))\n",
    "    \n",
    "    # Kompajliranje modela\n",
    "    model.compile(optimizer='adam', loss='categorical_crossentropy', metrics=['accuracy'])\n",
    "    \n",
    "    return model"
   ]
  },
  {
   "cell_type": "code",
   "execution_count": 33,
   "metadata": {},
   "outputs": [],
   "source": [
    "neural_network = KerasClassifier(model=model_func, epochs=10, batch_size=256, verbose=0)"
   ]
  },
  {
   "cell_type": "code",
   "execution_count": null,
   "metadata": {},
   "outputs": [],
   "source": [
    "# Nalaženje hiperparametara neuralne mreže koristeći GridSearch algoritam\n",
    "grid_search_neural_network = GridSearchCV(estimator=neural_network, param_grid={}, cv=3)\n",
    "results = grid_search_neural_network.fit(X_train_sc, y_train_nn)"
   ]
  },
  {
   "cell_type": "code",
   "execution_count": null,
   "metadata": {},
   "outputs": [],
   "source": [
    "print(grid_search_neural_network.best_score_)\n",
    "# 0.59"
   ]
  },
  {
   "cell_type": "markdown",
   "metadata": {},
   "source": [
    "### Odabir modela"
   ]
  },
  {
   "cell_type": "markdown",
   "metadata": {},
   "source": [
    "Zaključujemo da model koji se ponaša najbolje nad našem skupu podataka jeste `GradientBoostingClassifier` tako da ćemo njega koristiti za konačno rešenje, ali ćemo povećati parametar n_estimators koji predstavlja koliko drveća naš model pravi pre nego što radi takozvano većinsko glasanje (ili računanje proseka) kako bi napravio predviđanje.\n",
    "\n",
    "Ovo će učiniti naš kod sporijim, ali će dati bolje rešenje."
   ]
  },
  {
   "cell_type": "code",
   "execution_count": 36,
   "metadata": {},
   "outputs": [
    {
     "data": {
      "text/plain": [
       "0.6488460253016952"
      ]
     },
     "execution_count": 36,
     "metadata": {},
     "output_type": "execute_result"
    }
   ],
   "source": [
    "clf = GradientBoostingClassifier(n_estimators=500)\n",
    "scores = cross_val_score(clf, X, y, cv=5)\n",
    "scores.mean()"
   ]
  },
  {
   "cell_type": "code",
   "execution_count": 37,
   "metadata": {},
   "outputs": [
    {
     "data": {
      "text/html": [
       "<div>\n",
       "<style scoped>\n",
       "    .dataframe tbody tr th:only-of-type {\n",
       "        vertical-align: middle;\n",
       "    }\n",
       "\n",
       "    .dataframe tbody tr th {\n",
       "        vertical-align: top;\n",
       "    }\n",
       "\n",
       "    .dataframe thead th {\n",
       "        text-align: right;\n",
       "    }\n",
       "</style>\n",
       "<table border=\"1\" class=\"dataframe\">\n",
       "  <thead>\n",
       "    <tr style=\"text-align: right;\">\n",
       "      <th></th>\n",
       "      <th>Name</th>\n",
       "      <th>AnimalType</th>\n",
       "      <th>SexuponOutcome</th>\n",
       "      <th>Breed</th>\n",
       "      <th>Color</th>\n",
       "      <th>AgeInDays</th>\n",
       "      <th>is_mix</th>\n",
       "      <th>year</th>\n",
       "      <th>month</th>\n",
       "      <th>day</th>\n",
       "    </tr>\n",
       "  </thead>\n",
       "  <tbody>\n",
       "    <tr>\n",
       "      <th>0</th>\n",
       "      <td>2910</td>\n",
       "      <td>1</td>\n",
       "      <td>2</td>\n",
       "      <td>1482</td>\n",
       "      <td>146</td>\n",
       "      <td>365</td>\n",
       "      <td>1</td>\n",
       "      <td>2014</td>\n",
       "      <td>2</td>\n",
       "      <td>12</td>\n",
       "    </tr>\n",
       "    <tr>\n",
       "      <th>1</th>\n",
       "      <td>2265</td>\n",
       "      <td>0</td>\n",
       "      <td>3</td>\n",
       "      <td>775</td>\n",
       "      <td>184</td>\n",
       "      <td>365</td>\n",
       "      <td>1</td>\n",
       "      <td>2013</td>\n",
       "      <td>10</td>\n",
       "      <td>13</td>\n",
       "    </tr>\n",
       "    <tr>\n",
       "      <th>2</th>\n",
       "      <td>5500</td>\n",
       "      <td>1</td>\n",
       "      <td>2</td>\n",
       "      <td>1293</td>\n",
       "      <td>97</td>\n",
       "      <td>730</td>\n",
       "      <td>1</td>\n",
       "      <td>2015</td>\n",
       "      <td>1</td>\n",
       "      <td>31</td>\n",
       "    </tr>\n",
       "    <tr>\n",
       "      <th>3</th>\n",
       "      <td>7968</td>\n",
       "      <td>0</td>\n",
       "      <td>1</td>\n",
       "      <td>775</td>\n",
       "      <td>47</td>\n",
       "      <td>21</td>\n",
       "      <td>1</td>\n",
       "      <td>2014</td>\n",
       "      <td>7</td>\n",
       "      <td>11</td>\n",
       "    </tr>\n",
       "    <tr>\n",
       "      <th>4</th>\n",
       "      <td>7968</td>\n",
       "      <td>1</td>\n",
       "      <td>2</td>\n",
       "      <td>1101</td>\n",
       "      <td>311</td>\n",
       "      <td>730</td>\n",
       "      <td>0</td>\n",
       "      <td>2013</td>\n",
       "      <td>11</td>\n",
       "      <td>15</td>\n",
       "    </tr>\n",
       "  </tbody>\n",
       "</table>\n",
       "</div>"
      ],
      "text/plain": [
       "   Name  AnimalType  SexuponOutcome  Breed  Color  AgeInDays  is_mix  year  \\\n",
       "0  2910           1               2   1482    146        365       1  2014   \n",
       "1  2265           0               3    775    184        365       1  2013   \n",
       "2  5500           1               2   1293     97        730       1  2015   \n",
       "3  7968           0               1    775     47         21       1  2014   \n",
       "4  7968           1               2   1101    311        730       0  2013   \n",
       "\n",
       "   month  day  \n",
       "0      2   12  \n",
       "1     10   13  \n",
       "2      1   31  \n",
       "3      7   11  \n",
       "4     11   15  "
      ]
     },
     "execution_count": 37,
     "metadata": {},
     "output_type": "execute_result"
    }
   ],
   "source": [
    "X.head()"
   ]
  },
  {
   "cell_type": "code",
   "execution_count": 38,
   "metadata": {
    "scrolled": true
   },
   "outputs": [
    {
     "data": {
      "text/plain": [
       "array([0.14168256, 0.04001523, 0.44504199, 0.05654333, 0.02099925,\n",
       "       0.25357824, 0.00169   , 0.0055234 , 0.01443525, 0.02049076])"
      ]
     },
     "execution_count": 38,
     "metadata": {},
     "output_type": "execute_result"
    }
   ],
   "source": [
    "clf.fit(X, y)\n",
    "clf.feature_importances_"
   ]
  },
  {
   "cell_type": "markdown",
   "metadata": {},
   "source": [
    "Uočavamo da su najbitnije karakteristike ime, pol i starost životinje."
   ]
  },
  {
   "cell_type": "markdown",
   "metadata": {},
   "source": [
    "### Priprema podataka za testiranje"
   ]
  },
  {
   "cell_type": "markdown",
   "metadata": {},
   "source": [
    "Na potpuno identičan način transformišemo starost životinja iz skupa podataka za testiranje kao i starost životinja iz skupa podataka za treniranje modela."
   ]
  },
  {
   "cell_type": "code",
   "execution_count": 39,
   "metadata": {},
   "outputs": [
    {
     "data": {
      "text/plain": [
       "0"
      ]
     },
     "execution_count": 39,
     "metadata": {},
     "output_type": "execute_result"
    }
   ],
   "source": [
    "test_df['AgeuponOutcome'] = test_df['AgeuponOutcome'].fillna('0')\n",
    "\n",
    "AgeInDays = test_df.AgeuponOutcome.transform(convert_age_upon_outcome_to_numerical_value)\n",
    "\n",
    "test_df['AgeInDays'] = AgeInDays\n",
    "test_df.drop(columns=['AgeuponOutcome'], inplace=True)\n",
    "test_df['AgeInDays'].isnull().sum()"
   ]
  },
  {
   "cell_type": "markdown",
   "metadata": {},
   "source": [
    "Kao i ostale karakteristike:"
   ]
  },
  {
   "cell_type": "code",
   "execution_count": 40,
   "metadata": {},
   "outputs": [],
   "source": [
    "test_df.Color = color_encoder.transform(test_df.Color)\n",
    "test_df['is_mix'] = test_df.Breed.apply(lambda x: 1 if 'Mix' in x else 0)\n",
    "test_df.Breed = breed_encoder.transform(test_df.Breed)\n",
    "test_df.AnimalType = animal_type_encoder.transform(test_df.AnimalType)\n",
    "test_df.SexuponOutcome = sex_upon_outcome_encoder.transform(test_df.SexuponOutcome)\n",
    "test_df.Name = name_encoder.transform(test_df.Name)\n",
    "test_df['year'] = test_df.DateTime.apply(lambda x: datetime.datetime.strptime(x, \"%Y-%m-%d %H:%M:%S\").year)\n",
    "test_df['month'] = test_df.DateTime.apply(lambda x: datetime.datetime.strptime(x, \"%Y-%m-%d %H:%M:%S\").month)\n",
    "test_df['day'] = test_df.DateTime.apply(lambda x: datetime.datetime.strptime(x, \"%Y-%m-%d %H:%M:%S\").day)"
   ]
  },
  {
   "cell_type": "code",
   "execution_count": 41,
   "metadata": {},
   "outputs": [
    {
     "data": {
      "text/html": [
       "<div>\n",
       "<style scoped>\n",
       "    .dataframe tbody tr th:only-of-type {\n",
       "        vertical-align: middle;\n",
       "    }\n",
       "\n",
       "    .dataframe tbody tr th {\n",
       "        vertical-align: top;\n",
       "    }\n",
       "\n",
       "    .dataframe thead th {\n",
       "        text-align: right;\n",
       "    }\n",
       "</style>\n",
       "<table border=\"1\" class=\"dataframe\">\n",
       "  <thead>\n",
       "    <tr style=\"text-align: right;\">\n",
       "      <th></th>\n",
       "      <th>ID</th>\n",
       "      <th>Name</th>\n",
       "      <th>DateTime</th>\n",
       "      <th>AnimalType</th>\n",
       "      <th>SexuponOutcome</th>\n",
       "      <th>Breed</th>\n",
       "      <th>Color</th>\n",
       "      <th>AgeInDays</th>\n",
       "      <th>is_mix</th>\n",
       "      <th>year</th>\n",
       "      <th>month</th>\n",
       "      <th>day</th>\n",
       "    </tr>\n",
       "  </thead>\n",
       "  <tbody>\n",
       "    <tr>\n",
       "      <th>0</th>\n",
       "      <td>1</td>\n",
       "      <td>6995</td>\n",
       "      <td>2015-10-12 12:15:00</td>\n",
       "      <td>1</td>\n",
       "      <td>0</td>\n",
       "      <td>1023</td>\n",
       "      <td>283</td>\n",
       "      <td>300</td>\n",
       "      <td>1</td>\n",
       "      <td>2015</td>\n",
       "      <td>10</td>\n",
       "      <td>12</td>\n",
       "    </tr>\n",
       "    <tr>\n",
       "      <th>1</th>\n",
       "      <td>2</td>\n",
       "      <td>1368</td>\n",
       "      <td>2014-07-26 17:59:00</td>\n",
       "      <td>1</td>\n",
       "      <td>3</td>\n",
       "      <td>875</td>\n",
       "      <td>40</td>\n",
       "      <td>730</td>\n",
       "      <td>0</td>\n",
       "      <td>2014</td>\n",
       "      <td>7</td>\n",
       "      <td>26</td>\n",
       "    </tr>\n",
       "    <tr>\n",
       "      <th>2</th>\n",
       "      <td>3</td>\n",
       "      <td>2871</td>\n",
       "      <td>2016-01-13 12:20:00</td>\n",
       "      <td>0</td>\n",
       "      <td>2</td>\n",
       "      <td>775</td>\n",
       "      <td>117</td>\n",
       "      <td>365</td>\n",
       "      <td>1</td>\n",
       "      <td>2016</td>\n",
       "      <td>1</td>\n",
       "      <td>13</td>\n",
       "    </tr>\n",
       "    <tr>\n",
       "      <th>3</th>\n",
       "      <td>4</td>\n",
       "      <td>5728</td>\n",
       "      <td>2013-12-28 18:12:00</td>\n",
       "      <td>1</td>\n",
       "      <td>1</td>\n",
       "      <td>658</td>\n",
       "      <td>346</td>\n",
       "      <td>120</td>\n",
       "      <td>1</td>\n",
       "      <td>2013</td>\n",
       "      <td>12</td>\n",
       "      <td>28</td>\n",
       "    </tr>\n",
       "    <tr>\n",
       "      <th>4</th>\n",
       "      <td>5</td>\n",
       "      <td>6679</td>\n",
       "      <td>2015-09-24 17:59:00</td>\n",
       "      <td>1</td>\n",
       "      <td>2</td>\n",
       "      <td>1165</td>\n",
       "      <td>359</td>\n",
       "      <td>730</td>\n",
       "      <td>1</td>\n",
       "      <td>2015</td>\n",
       "      <td>9</td>\n",
       "      <td>24</td>\n",
       "    </tr>\n",
       "  </tbody>\n",
       "</table>\n",
       "</div>"
      ],
      "text/plain": [
       "   ID  Name             DateTime  AnimalType  SexuponOutcome  Breed  Color  \\\n",
       "0   1  6995  2015-10-12 12:15:00           1               0   1023    283   \n",
       "1   2  1368  2014-07-26 17:59:00           1               3    875     40   \n",
       "2   3  2871  2016-01-13 12:20:00           0               2    775    117   \n",
       "3   4  5728  2013-12-28 18:12:00           1               1    658    346   \n",
       "4   5  6679  2015-09-24 17:59:00           1               2   1165    359   \n",
       "\n",
       "   AgeInDays  is_mix  year  month  day  \n",
       "0        300       1  2015     10   12  \n",
       "1        730       0  2014      7   26  \n",
       "2        365       1  2016      1   13  \n",
       "3        120       1  2013     12   28  \n",
       "4        730       1  2015      9   24  "
      ]
     },
     "execution_count": 41,
     "metadata": {},
     "output_type": "execute_result"
    }
   ],
   "source": [
    "test_df.head()"
   ]
  },
  {
   "cell_type": "markdown",
   "metadata": {},
   "source": [
    "## Formatiranje rešenja za predaju na platformi Kaggle"
   ]
  },
  {
   "cell_type": "code",
   "execution_count": 42,
   "metadata": {},
   "outputs": [
    {
     "data": {
      "text/html": [
       "<div>\n",
       "<style scoped>\n",
       "    .dataframe tbody tr th:only-of-type {\n",
       "        vertical-align: middle;\n",
       "    }\n",
       "\n",
       "    .dataframe tbody tr th {\n",
       "        vertical-align: top;\n",
       "    }\n",
       "\n",
       "    .dataframe thead th {\n",
       "        text-align: right;\n",
       "    }\n",
       "</style>\n",
       "<table border=\"1\" class=\"dataframe\">\n",
       "  <thead>\n",
       "    <tr style=\"text-align: right;\">\n",
       "      <th></th>\n",
       "      <th>ID</th>\n",
       "      <th>Adoption</th>\n",
       "      <th>Died</th>\n",
       "      <th>Euthanasia</th>\n",
       "      <th>Return_to_owner</th>\n",
       "      <th>Transfer</th>\n",
       "    </tr>\n",
       "  </thead>\n",
       "  <tbody>\n",
       "    <tr>\n",
       "      <th>0</th>\n",
       "      <td>1</td>\n",
       "      <td>0.059791</td>\n",
       "      <td>0.001598</td>\n",
       "      <td>0.026272</td>\n",
       "      <td>0.302280</td>\n",
       "      <td>0.610059</td>\n",
       "    </tr>\n",
       "    <tr>\n",
       "      <th>1</th>\n",
       "      <td>2</td>\n",
       "      <td>0.598762</td>\n",
       "      <td>0.000768</td>\n",
       "      <td>0.017963</td>\n",
       "      <td>0.292022</td>\n",
       "      <td>0.090485</td>\n",
       "    </tr>\n",
       "    <tr>\n",
       "      <th>2</th>\n",
       "      <td>3</td>\n",
       "      <td>0.607851</td>\n",
       "      <td>0.001659</td>\n",
       "      <td>0.009157</td>\n",
       "      <td>0.103572</td>\n",
       "      <td>0.277762</td>\n",
       "    </tr>\n",
       "    <tr>\n",
       "      <th>3</th>\n",
       "      <td>4</td>\n",
       "      <td>0.178967</td>\n",
       "      <td>0.002061</td>\n",
       "      <td>0.032348</td>\n",
       "      <td>0.105406</td>\n",
       "      <td>0.681218</td>\n",
       "    </tr>\n",
       "    <tr>\n",
       "      <th>4</th>\n",
       "      <td>5</td>\n",
       "      <td>0.555040</td>\n",
       "      <td>0.000438</td>\n",
       "      <td>0.006393</td>\n",
       "      <td>0.309551</td>\n",
       "      <td>0.128577</td>\n",
       "    </tr>\n",
       "    <tr>\n",
       "      <th>...</th>\n",
       "      <td>...</td>\n",
       "      <td>...</td>\n",
       "      <td>...</td>\n",
       "      <td>...</td>\n",
       "      <td>...</td>\n",
       "      <td>...</td>\n",
       "    </tr>\n",
       "    <tr>\n",
       "      <th>11451</th>\n",
       "      <td>11452</td>\n",
       "      <td>0.854233</td>\n",
       "      <td>0.001422</td>\n",
       "      <td>0.009736</td>\n",
       "      <td>0.009343</td>\n",
       "      <td>0.125267</td>\n",
       "    </tr>\n",
       "    <tr>\n",
       "      <th>11452</th>\n",
       "      <td>11453</td>\n",
       "      <td>0.001180</td>\n",
       "      <td>0.017924</td>\n",
       "      <td>0.023092</td>\n",
       "      <td>0.002356</td>\n",
       "      <td>0.955448</td>\n",
       "    </tr>\n",
       "    <tr>\n",
       "      <th>11453</th>\n",
       "      <td>11454</td>\n",
       "      <td>0.004865</td>\n",
       "      <td>0.007132</td>\n",
       "      <td>0.085866</td>\n",
       "      <td>0.007838</td>\n",
       "      <td>0.894299</td>\n",
       "    </tr>\n",
       "    <tr>\n",
       "      <th>11454</th>\n",
       "      <td>11455</td>\n",
       "      <td>0.296556</td>\n",
       "      <td>0.000772</td>\n",
       "      <td>0.021601</td>\n",
       "      <td>0.590303</td>\n",
       "      <td>0.090768</td>\n",
       "    </tr>\n",
       "    <tr>\n",
       "      <th>11455</th>\n",
       "      <td>11456</td>\n",
       "      <td>0.058748</td>\n",
       "      <td>0.004190</td>\n",
       "      <td>0.149721</td>\n",
       "      <td>0.456415</td>\n",
       "      <td>0.330926</td>\n",
       "    </tr>\n",
       "  </tbody>\n",
       "</table>\n",
       "<p>11456 rows × 6 columns</p>\n",
       "</div>"
      ],
      "text/plain": [
       "          ID  Adoption      Died  Euthanasia  Return_to_owner  Transfer\n",
       "0          1  0.059791  0.001598    0.026272         0.302280  0.610059\n",
       "1          2  0.598762  0.000768    0.017963         0.292022  0.090485\n",
       "2          3  0.607851  0.001659    0.009157         0.103572  0.277762\n",
       "3          4  0.178967  0.002061    0.032348         0.105406  0.681218\n",
       "4          5  0.555040  0.000438    0.006393         0.309551  0.128577\n",
       "...      ...       ...       ...         ...              ...       ...\n",
       "11451  11452  0.854233  0.001422    0.009736         0.009343  0.125267\n",
       "11452  11453  0.001180  0.017924    0.023092         0.002356  0.955448\n",
       "11453  11454  0.004865  0.007132    0.085866         0.007838  0.894299\n",
       "11454  11455  0.296556  0.000772    0.021601         0.590303  0.090768\n",
       "11455  11456  0.058748  0.004190    0.149721         0.456415  0.330926\n",
       "\n",
       "[11456 rows x 6 columns]"
      ]
     },
     "execution_count": 42,
     "metadata": {},
     "output_type": "execute_result"
    }
   ],
   "source": [
    "test_X = test_df.drop(['ID', 'DateTime'], axis=1)\n",
    "test_y = clf.predict_proba(test_X)\n",
    "\n",
    "results = []\n",
    "for i in range(len(test_y)):\n",
    "    row = {\n",
    "        'ID': i + 1\n",
    "    }\n",
    "    \n",
    "    for j in range(5):\n",
    "        outcome = outcome_type_encoder.inverse_transform([j])[0]\n",
    "        row[outcome] = test_y[i][j]\n",
    "        \n",
    "    results.append(row)\n",
    "    \n",
    "submission = pd.DataFrame(results)\n",
    "submission"
   ]
  },
  {
   "cell_type": "code",
   "execution_count": 43,
   "metadata": {},
   "outputs": [],
   "source": [
    "submission.to_csv(\"submission.csv\", index=False)"
   ]
  },
  {
   "cell_type": "markdown",
   "metadata": {},
   "source": [
    "## Zaključak\n",
    "\n",
    "Naš model ima rezultat 0.86337 na platformi Kaggle koji je sasvim prihvatljiv. Međutim lako je uočiti gde je naš model ima mesta za unapređenje:\n",
    "\n",
    "Imamo dosta različitih rasa i boja životinja u našem skupu podataka i vidimo da one nisu najdominantnije karakteristike našeg modela. Razlog je to što veliki broj tih karakteristika možemo kodirati jednom, ali za to nam je potreban dodatan skup podataka koji bi nam dao kontekst o tome koje su rase slične.\n",
    "\n",
    "Na primer, možemo više vrsti labradora ili retrivera predstaviti samo jednom (labrador, ili retriver), kao i više sličnih boja predstaviti jednom bojom. To bi malo smanjilo prostor pretrage i verovatno dalo bolje rezultate na kraju."
   ]
  }
 ],
 "metadata": {
  "kernelspec": {
   "display_name": "Python 3 (ipykernel)",
   "language": "python",
   "name": "python3"
  },
  "language_info": {
   "codemirror_mode": {
    "name": "ipython",
    "version": 3
   },
   "file_extension": ".py",
   "mimetype": "text/x-python",
   "name": "python",
   "nbconvert_exporter": "python",
   "pygments_lexer": "ipython3",
   "version": "3.10.12"
  },
  "varInspector": {
   "cols": {
    "lenName": 16,
    "lenType": 16,
    "lenVar": 40
   },
   "kernels_config": {
    "python": {
     "delete_cmd_postfix": "",
     "delete_cmd_prefix": "del ",
     "library": "var_list.py",
     "varRefreshCmd": "print(var_dic_list())"
    },
    "r": {
     "delete_cmd_postfix": ") ",
     "delete_cmd_prefix": "rm(",
     "library": "var_list.r",
     "varRefreshCmd": "cat(var_dic_list()) "
    }
   },
   "types_to_exclude": [
    "module",
    "function",
    "builtin_function_or_method",
    "instance",
    "_Feature"
   ],
   "window_display": false
  }
 },
 "nbformat": 4,
 "nbformat_minor": 4
}
